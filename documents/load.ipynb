{
 "cells": [
  {
   "cell_type": "code",
   "execution_count": 1,
   "outputs": [
    {
     "name": "stderr",
     "output_type": "stream",
     "text": [
      "C:\\Users\\torre\\Documents\\Dev\\chat-with-docs\\venv\\lib\\site-packages\\pinecone\\index.py:4: TqdmExperimentalWarning: Using `tqdm.autonotebook.tqdm` in notebook mode. Use `tqdm.tqdm` instead to force console mode (e.g. in jupyter console)\n",
      "  from tqdm.autonotebook import tqdm\n"
     ]
    }
   ],
   "source": [
    "import os\n",
    "import tempfile\n",
    "\n",
    "from langchain.document_loaders import PyPDFLoader, TextLoader\n",
    "from langchain.text_splitter import RecursiveCharacterTextSplitter\n",
    "from langchain.embeddings import OpenAIEmbeddings\n",
    "from langchain.vectorstores import Pinecone\n",
    "from dotenv import load_dotenv\n",
    "import pinecone # noqa\n",
    "import tiktoken\n",
    "from PyPDF2 import PdfReader"
   ],
   "metadata": {
    "collapsed": false,
    "ExecuteTime": {
     "end_time": "2023-11-26T22:59:57.499911800Z",
     "start_time": "2023-11-26T22:59:55.543661600Z"
    }
   },
   "id": "81a9d7d11b6d43be"
  },
  {
   "cell_type": "code",
   "execution_count": 2,
   "outputs": [
    {
     "data": {
      "text/plain": "True"
     },
     "execution_count": 2,
     "metadata": {},
     "output_type": "execute_result"
    }
   ],
   "source": [
    "load_dotenv()"
   ],
   "metadata": {
    "collapsed": false,
    "ExecuteTime": {
     "end_time": "2023-11-26T22:59:57.542081100Z",
     "start_time": "2023-11-26T22:59:57.500910300Z"
    }
   },
   "id": "904ad1fe87081384"
  },
  {
   "cell_type": "markdown",
   "source": [
    "Lectura de pdf y conversion a un solo texto"
   ],
   "metadata": {
    "collapsed": false
   },
   "id": "d682bb16909243d3"
  },
  {
   "cell_type": "code",
   "execution_count": 19,
   "outputs": [
    {
     "name": "stdout",
     "output_type": "stream",
     "text": [
      "CONSTITUCIÓN_POLÍTICA_DE_LA_REPÚBLICA.txt\n",
      "porpuesta_de_nueva_constitucion_2022.txt\n",
      "porpuesta_de_nueva_constitucion_2023.txt\n"
     ]
    }
   ],
   "source": [
    "docs = []\n",
    "temp_dir = tempfile.TemporaryDirectory()\n",
    "folder = 'data'\n",
    "texto = \"\"\n",
    "\n",
    "for file in os.listdir(folder):\n",
    "    path_file = os.path.join(folder, file)\n",
    "    reader = PdfReader(path_file)\n",
    "    \n",
    "    texto = \"--------------------------\\n\"\n",
    "    texto += \"INICIO DEL DOCUMENTO\\n\"\n",
    "    texto += \"TITULO: \" + file.replace(\"_\", \" \").replace(\".pdf\", \" \") + '\\n'\n",
    "    \n",
    "    for pagina in reader.pages:\n",
    "        texto += pagina.extract_text() + '\\n'\n",
    "        \n",
    "    texto += \"FIN DEL DOCUMENTO\\n\"\n",
    "    texto += \"--------------------------\\n\"\n",
    "    \n",
    "    with open(f'text/{file.replace(\".pdf\", \".txt\")}', 'w', encoding='utf-8') as archivo_txt:\n",
    "        archivo_txt.write(texto)\n",
    "        \n",
    "# Crear loaders\n",
    "folder = 'text'\n",
    "\n",
    "for file in os.listdir(folder):\n",
    "    print(file)\n",
    "    \n",
    "    file_path = os.path.join(folder, file)\n",
    "    loader = TextLoader(file_path, encoding='utf-8')\n",
    "    docs.extend(loader.load())"
   ],
   "metadata": {
    "collapsed": false,
    "ExecuteTime": {
     "end_time": "2023-11-26T23:39:32.548653200Z",
     "start_time": "2023-11-26T23:39:25.897655200Z"
    }
   },
   "id": "cd781ff9f2cd3197"
  },
  {
   "cell_type": "markdown",
   "source": [
    "Lectura de pdf y creación de loader"
   ],
   "metadata": {
    "collapsed": false
   },
   "id": "35cd1fccd46e8f2e"
  },
  {
   "cell_type": "code",
   "execution_count": 6,
   "outputs": [
    {
     "name": "stdout",
     "output_type": "stream",
     "text": [
      "CONSTITUCIÓN_POLÍTICA_DE_LA_REPÚBLICA.pdf\n",
      "porpuesta_de_nueva_constitucion_2022.pdf\n",
      "porpuesta_de_nueva_constitucion_2023.pdf\n"
     ]
    }
   ],
   "source": [
    "docs = []\n",
    "temp_dir = tempfile.TemporaryDirectory()\n",
    "folder = 'data'\n",
    "\n",
    "for file in os.listdir(folder):\n",
    "    print(file)\n",
    "    \n",
    "    file_path = os.path.join(folder, file)\n",
    "    loader = PyPDFLoader(file_path=file_path)\n",
    "\n",
    "    docs.extend(loader.load_and_split())"
   ],
   "metadata": {
    "collapsed": false,
    "ExecuteTime": {
     "end_time": "2023-11-26T23:00:34.960236600Z",
     "start_time": "2023-11-26T23:00:27.918395300Z"
    }
   },
   "id": "1cb9e87739d131e7"
  },
  {
   "cell_type": "code",
   "execution_count": 9,
   "outputs": [
    {
     "data": {
      "text/plain": "545"
     },
     "execution_count": 9,
     "metadata": {},
     "output_type": "execute_result"
    }
   ],
   "source": [
    "len(docs)"
   ],
   "metadata": {
    "collapsed": false,
    "ExecuteTime": {
     "end_time": "2023-11-26T23:01:31.915331400Z",
     "start_time": "2023-11-26T23:01:31.898333400Z"
    }
   },
   "id": "301d5985e81cd113"
  },
  {
   "cell_type": "code",
   "execution_count": 21,
   "outputs": [],
   "source": [
    "text_splitter = RecursiveCharacterTextSplitter(chunk_size=2500, chunk_overlap=500)\n",
    "splits = text_splitter.split_documents(docs)"
   ],
   "metadata": {
    "collapsed": false,
    "ExecuteTime": {
     "end_time": "2023-11-26T23:40:12.214526400Z",
     "start_time": "2023-11-26T23:40:12.189479Z"
    }
   },
   "id": "63f996b8a9b6159b"
  },
  {
   "cell_type": "code",
   "execution_count": 22,
   "outputs": [
    {
     "data": {
      "text/plain": "605"
     },
     "execution_count": 22,
     "metadata": {},
     "output_type": "execute_result"
    }
   ],
   "source": [
    "len(splits)"
   ],
   "metadata": {
    "collapsed": false,
    "ExecuteTime": {
     "end_time": "2023-11-26T23:40:12.792938100Z",
     "start_time": "2023-11-26T23:40:12.769939400Z"
    }
   },
   "id": "e4266c3f8a684555"
  },
  {
   "cell_type": "code",
   "execution_count": 23,
   "outputs": [],
   "source": [
    "def consultar_costo_embedding(p):\n",
    "    enc = tiktoken.encoding_for_model('text-embedding-ada-002')\n",
    "    total_tokens = sum([len(enc.encode(page.page_content)) for page in p])\n",
    "    print(f\"Total tokens {total_tokens}\")\n",
    "    print(f\"Costo embedding {total_tokens / 1000 * 0.0001:.6f}\")"
   ],
   "metadata": {
    "collapsed": false,
    "ExecuteTime": {
     "end_time": "2023-11-26T23:40:14.816483200Z",
     "start_time": "2023-11-26T23:40:14.806357900Z"
    }
   },
   "id": "abf7d58cb0855895"
  },
  {
   "cell_type": "code",
   "execution_count": 24,
   "outputs": [
    {
     "name": "stdout",
     "output_type": "stream",
     "text": [
      "Total tokens 406465\n",
      "Costo embedding 0.040647\n"
     ]
    }
   ],
   "source": [
    "consultar_costo_embedding(splits)"
   ],
   "metadata": {
    "collapsed": false,
    "ExecuteTime": {
     "end_time": "2023-11-26T23:40:15.272684400Z",
     "start_time": "2023-11-26T23:40:15.034667800Z"
    }
   },
   "id": "a5edf704066b0a7"
  },
  {
   "cell_type": "code",
   "execution_count": 25,
   "outputs": [],
   "source": [
    "api_key = os.getenv('OPENAI_API_KEY')\n",
    "embeddings = OpenAIEmbeddings(openai_api_key=api_key)"
   ],
   "metadata": {
    "collapsed": false,
    "ExecuteTime": {
     "end_time": "2023-11-26T23:40:16.942599200Z",
     "start_time": "2023-11-26T23:40:16.933603300Z"
    }
   },
   "id": "50aff8c4c1ed4754"
  },
  {
   "cell_type": "code",
   "execution_count": 26,
   "outputs": [],
   "source": [
    "api_pinecone = os.getenv('PINECONE_API_KEY')\n",
    "env_pinecone = os.getenv('PINECONE_ENV')\n",
    "\n",
    "pinecone.init(\n",
    "    api_key=api_pinecone,\n",
    "    environment=env_pinecone\n",
    ")\n",
    "index_name = \"constitution-idx\"\n"
   ],
   "metadata": {
    "collapsed": false,
    "ExecuteTime": {
     "end_time": "2023-11-26T23:40:17.721269900Z",
     "start_time": "2023-11-26T23:40:17.093332500Z"
    }
   },
   "id": "e49b2233f76bf8e9"
  },
  {
   "cell_type": "code",
   "execution_count": 27,
   "outputs": [
    {
     "data": {
      "text/plain": "{'dimension': 1536,\n 'index_fullness': 0.0,\n 'namespaces': {'': {'vector_count': 605}},\n 'total_vector_count': 605}"
     },
     "execution_count": 27,
     "metadata": {},
     "output_type": "execute_result"
    }
   ],
   "source": [
    "if index_name not in pinecone.list_indexes():\n",
    "    pinecone.create_index(name=index_name, metric=\"cosine\", dimension=1536)\n",
    "\n",
    "# docsearch = Pinecone.from_text([t.page_content for t in pages], embeddings, index_name=index_name)\n",
    "# docsearch = Pinecone.from_documents(pages, embeddings, index_name=index_name)\n",
    "docsearch = Pinecone.from_documents(splits, embeddings, index_name=index_name)\n",
    "\n",
    "# docsearch = Pinecone.from_existing_index(index_name, embeddings)\n",
    "\n",
    "index = pinecone.Index(index_name)\n",
    "index.describe_index_stats()"
   ],
   "metadata": {
    "collapsed": false,
    "ExecuteTime": {
     "end_time": "2023-11-26T23:40:58.350155500Z",
     "start_time": "2023-11-26T23:40:18.037914Z"
    }
   },
   "id": "a0007dab3288bb43"
  },
  {
   "cell_type": "code",
   "execution_count": 18,
   "outputs": [
    {
     "data": {
      "text/plain": "[Document(page_content='--------------------------\\nINICIO DEL DOCUMENTO\\nTITULO: porpuesta de nueva constitucion 2022', metadata={'source': 'text\\\\porpuesta_de_nueva_constitucion_2022.txt'}),\n Document(page_content='--------------------------\\nINICIO DEL DOCUMENTO\\nTITULO: porpuesta de nueva constitucion 2023 \\nCONSTITUCIÓN POLÍTICAPROPUESTA \\nDE LA REPÚBLICA DE CHILE\\n2\\nEsta propuesta de Constitución Política de la República fue elaborada y \\naprobada por el Consejo Constitucional, elegido el día 7 de mayo de 2023, \\na partir del anteproyecto elaborado por la Comisión Experta, nombrada por \\nla Cámara de Diputadas y Diputados y el Senado.\\nEl Consejo Constitucional se instaló el día 7 de junio de 2023 y desarrolló \\nsu trabajo desde esa fecha y hasta el día 7 de noviembre de 2023. \\nPropuesta Constitución Política de la República de Chile3\\nEl Consejo estuvo integrado por:\\nAlihuen Antileo Navarrete\\nKaren Araya Rojas\\nMarcela Araya Sepúlveda\\nAntonio Barchiesi Chávez\\nGermán Becker Alvear\\nJessica Bengoa Mayorga\\nPilar Cuevas Mardones\\nJorge De la Maza Schleyer\\nEdmundo Eluchans Urenda\\nSebastián Figueroa Melo\\nMariela Fincheira Massardo\\nLorena Gallardo Cárdenas\\nMaría Gatica Gajardo\\nJosé González Pizarro\\nIvón Guerra Aguilera\\nBeatriz Hevia Willer (Presidenta)\\nGloria Hutt Hesse\\nMaría Claudia Jorquera Coria\\nAlejandro Köhler Vargas\\nMiguel Littin Cucumides\\nYerko Ljubetic Godoy\\nMaría de los Ángeles López Porfiri\\nClaudia Mac-Lean Bravo\\nIvonne Mangelsdorff Galeb\\nNancy Márquez GonzálezCecilia Medina Meneses\\nKinturay Melin Rapiman\\nCarmen Montoya Mayorga\\nCarolina Navarrete Rubio\\nJulio Ñanco Antilef\\nJocelyn Ormeño Lee\\nRicardo Ortega Perrier\\nJorge Ossandón Spoerer\\nMaría Pardo Vergara\\nGloria Paredes Díaz\\nSebastián Parraguez González\\nNinoska Payauna Vilca\\nArturo Phillips Dörr\\nCarlos Recondo Lavanderos\\nMiguel Rojas Soto\\nPaul Sfeir Rubio\\nLuis Silva Irarrázaval\\nCarlos Solar Barrios\\nPatricia Spoerer Price\\nChristian Suárez Crothers\\nHéctor Urban Astete\\nAldo Valle Acevedo (Vicepresidente)\\nDiego Vargas Castillo\\nFernando Viveros Reyes\\nPaloma Zúñiga Cerda\\n4\\nLa Comisión Experta se instaló el día 6 de marzo de 2023 y estuvo integrada \\npor:\\nPaz Anastasiadis Le Roy\\nJaime Arancibia Mattar\\nAlexis Cortés Morales\\nCarlos Frontaura Rivera\\nMagaly Fuenzalida Colombo\\nNatalia González Bañados\\nBettina Horst von Thadden\\nAlejandra Krauss Valle\\nCatalina Lagos Tschorne\\nHernán Larraín Fernández\\nDomingo Lovera Parmo\\nKatherine Martorell Awad\\nGabriel Osorio Vargas\\nJuan José Ossa Santa Cruz\\nMáximo Pavez Cantillano\\nMarcela Peredo Rojas\\nFlavio Quezada Rodríguez\\nTeodoro Ribera Neumann\\nAntonia Rivas Palma\\nCatalina Salem Gesell\\nLeslie Sánchez Lobos\\nFrancisco Soto Barrientos\\nSebastián Soto Velasco (Vicepresidente)\\nVerónica Undurraga Valdés (Presidenta)\\nSecretario General del Proceso Constitucional\\nLuis Rojas Gallardo\\nPropuesta Constitución Política de la República de Chile5\\n6\\nPropuesta Constitución Política de la República de Chile7\\nCAPÍTULO I\\nFUNDAMENTOS DEL ORDEN CONSTITUCIONAL\\nArtículo 1\\n1. La dignidad humana es inviolable y la base del derecho y la justicia. Las personas \\nnacen libres e iguales en dignidad y derechos. Su respeto y garantía es el primer \\ndeber de la comunidad política y de su forma jurídica de organización.', metadata={'source': 'text\\\\porpuesta_de_nueva_constitucion_2023.txt'}),\n Document(page_content='Dicho acuerdo deberá ser aprobado por el Consejo Constitucional, con el quórum \\nseñalado en el inciso cuarto. \\nSi la comisión mixta no alcanzare acuerdo en un plazo de cinco días, la Comisión \\nExperta, dentro de un plazo de tres días, y por las tres quintas partes de sus miembros en \\nejercicio, deberá presentar una nueva propuesta  al Consejo Constitucional, para que se \\npronuncie de conformidad con lo dispuesto en el inciso cuarto. \\nUna vez terminada la votación de cada norma que formará parte de la propuesta \\nde nueva Constitución, se deberá aprobar la tota lidad del texto por los tres quintos de los \\nmiembros en ejercicio del Consejo. \\nLos miembros del Consejo Constitucional y de la Comisión Experta no podrán \\npromover ni votar ningún asunto que interese directa o personalmente a ellos o a sus \\ncónyuges, ascendientes, descendientes o colaterales hasta el cuarto grado de \\nconsanguinidad y el tercero de afinidad, in clusive. Con todo, podr án participar en el \\ndebate advirtiendo previamente el interés que e llas, o las personas mencionadas, tengan \\nen el asunto. No regirá este impedimento en asuntos de índole general que interesen al \\ngremio, profesión, industria o comercio a que pertenezcan. \\n  \\nArtículo 153.- El trabajo del Consejo Constitucional y de los órganos establecidos \\nen el presente párrafo se regulará, además, por un reglamento que elaborarán, \\nconjuntamente, las secretarías del Senado y de la Cámara de Diputados, y será sometido \\na la discusión y aprobación de una comisión bicameral compuesta por nueve diputados y \\nnueve senadores. Dicha comisión deberá evac uar su propuesta en el término de cinco \\ndías, la que será sometida a la ratificación de ambas cámaras del Congreso Nacional por \\nlos cuatro séptimos de sus miembros en ejercicio. \\nLos representantes del Senado y de la Cámara de Diputados serán electos por la \\nrespectiva Corporación a propuesta de los comités parlamentarios. La propuesta será \\naprobada por los tres quintos de los parlamentarios en ejercicio. \\nSi la comisión bicameral no evacuare su propuesta en los términos señalados en el \\ninciso primero, regirá la proposición elaborada en conjunto por las secretarías del Senado \\ny de la Cámara de Diputados. \\n \\n 107\\n El reglamento contemplará mecanismos de participación ciudadana, la que tendrá \\nlugar una vez instalado el Consejo Constitucional y será coordinada por la Universidad de \\nChile y la Pontificia Universidad Católica de Chile, a través de fórmulas que permitan la \\nparticipación de todas las universidades acreditadas. Dichos mecanismos contemplarán la iniciativa popular de norma. \\nEn lo no dispuesto por el reglamento, y en cuanto fueren compatibles, regirán las \\nnormas del reglamento del Senado. \\n \\nArtículo 154.- La propuesta de nueva Constitución que se someta a plebiscito \\ndeberá contener, al menos, las siguientes bases institucionales y fundamentales:  \\n1. Chile es una República democrática, cuya soberanía reside en el pueblo.', metadata={'source': 'text\\\\CONSTITUCIÓN_POLÍTICA_DE_LA_REPÚBLICA.txt'}),\n Document(page_content='Presidente de la República y al Congreso Nacional. \\nLa nueva Constitución deberá difundirse y repartirse gratuitamente a todos los \\nestablecimientos educacionales, públicos o privados; municipalidades y bibliotecas \\nmunicipales; Biblioteca del Congreso Nacional ; Archivo Nacional; Bi blioteca Nacional; \\n \\n 112\\n universidades, y órganos del Estado. Además, deberá estar disponible en sitios web \\noficiales. Los jueces y magistrados de los tr ibunales superiores de justicia deberán recibir \\nun ejemplar de la Constitución. \\nSólo para efectos de ejecutar las acciones en materia de padrones y propaganda \\nelectoral establecidas en las leyes aplicables al plebiscito constitucional, el Servicio \\nElectoral deberá considerar como fecha de celebración del plebiscito el día 17 de \\ndiciembre de 2023. \\n \\nArtículo 160.- El sufragio tanto en la elección de miembros del Consejo \\nConstitucional como en el plebiscito señalado en el artículo anterior será obligatorio para quienes tengan domicilio electoral en Chile. \\nEl elector que no sufragare será penado con una multa a beneficio municipal de 0,5 \\na 3 unidades tributarias mensuales. \\nNo incurrirá en esta sanción el elector que haya dejado de cumplir su obligación \\npor enfermedad, ausencia del país, encontrars e el día del plebiscito en un lugar situado a \\nmás de doscientos kilómetros de aquel en que se encontrare registr ado su domicilio \\nelectoral o por otro impedimento grave, debidamente comprobado ante el juez \\ncompetente, quien apreciará la prueba de ac uerdo a las reglas de la sana crítica. \\nLas personas que durante la realización del plebiscito nacional constitucional \\ndesempeñen funciones que encomienda el decreto con fuerza de ley Nº 2, del año 2017, \\ndel Ministerio Secretaría General de la Presi dencia, que fija el texto refundido, coordinado \\ny sistematizado de la ley Nº 18.700, orgánica constitucional sobre Votaciones Populares y \\nEscrutinios, se eximirán de la sanción est ablecida en el presente artículo, remitiendo al \\njuez competente un certificado que acredite esta circunstancia. \\nEl conocimiento de la infracción señalada corresponderá al juez de policía local de \\nla comuna donde se cometieron tales infracciones, de acuerdo con el procedimiento \\nestablecido en la ley N° 18.287, que est ablece procedimiento ante los Juzgados de \\nPolicía Local. El Director del Servicio Electoral deberá interponer las respectivas \\ndenuncias dentro del plazo de un año desde la celebración del plebiscito. \\n Artículo 161.- Para el financiamiento público y privado, transparencia, límite y \\ncontrol del gasto electoral que los partidos po líticos realicen para el plebiscito a que hace \\nreferencia el artículo 159, se estará a la s reglas aplicables a la elección de diputados que \\nestablece el decreto con fuerza de ley N° 3, de 2017, del Ministerio Secretaría General de \\nla Presidencia, que fija el texto refundido, co ordinado y sistematizado de la ley N° 19.884, \\ncon las siguientes reglas especiales:', metadata={'source': 'text\\\\CONSTITUCIÓN_POLÍTICA_DE_LA_REPÚBLICA.txt'}),\n Document(page_content='Artículo 158.- El Consejo Constitucional deberá aprobar la propuesta de texto de \\nnueva Constitución en el plazo de cinco meses, contado desde su instalación. La \\npropuesta de texto aprobado deberá ser comunicada al Presidente de la República para los efectos establecidos en el artículo siguiente. \\nEl Consejo Constitucional, la Comisión Experta y el Comité Técnico de \\nAdmisibilidad se disolverán, de pleno derecho, una vez aprobada la propuesta de nueva Constitución, según lo dispuesto en el artículo 152 o vencido el plazo señalado en el \\ninciso anterior. \\nLas personas que se hayan desempeñado como integrantes del Consejo \\nConstitucional, de la Comisión Experta o del Comité Técnico de Admisibilidad, no podrán \\nser candidatos a las próximas elecciones de Presidente de la República, diputado, \\nsenador, gobernador regional, consejero regional, alcalde y concejal. Asimismo, no podrán ser candidatos a ningún otro cargo de elección popular en la primera elección que \\ncorresponda a cada cargo que se cree en virtud de la nueva Constitución. \\n \\nDel plebiscito constitucional \\nArtículo 159.- Comunicada al Presidente de la República la propuesta de texto \\nconstitucional aprobada por el Consejo Constitucional, éste deberá convocar dentro de \\nlos tres días siguientes a dicha comunica ción, mediante decreto supremo exento, a un \\nplebiscito nacional constitucional para que el electorado se pronuncie sobre la propuesta. \\n \\nEn el plebiscito señalado, el electorado dispondrá de una cédula electoral que \\ncontendrá la siguiente pregunta, “¿Está us ted a favor o en contra del texto de Nueva \\nConstitución?”. Bajo la cuestión planteada habrá dos rayas horizontales, una al lado de la \\notra. La primera de ellas, tendrá en su parte inferior la expresión “A favor”, y la segunda, \\nla expresión “En contra”, a fin de que el elec tor pueda marcar su preferencia sobre una de \\nlas alternativas. \\nEste plebiscito se celebrará el 17 de diciembre de 2023. \\nEl proceso de calificación del plebiscito nacional deberá quedar concluido dentro \\nde los treinta días siguientes a la fecha de éste. La sentencia de proclamación del \\nplebiscito será comunicada dentro de los tres días siguientes de su dictación al \\nPresidente de la República y al Congreso Nacional. \\nSi la cuestión planteada al electorado en el plebiscito nacional constitucional fuere \\nratificada, el Presidente de la República deber á, dentro de los cinco días siguientes a la \\n \\n 111\\n comunicación de la sentencia referida en el inciso anterior, convocar al Congreso Pleno \\npara que, en un acto público y solemne, se promulgue y se jure o prometa respetar y \\nacatar la nueva Constitución Política de la República. Dicho texto será publicado en el \\nDiario Oficial dentro de los diez días siguient es a su promulgación y entrará en vigencia \\nen dicha fecha. A partir de esta fecha, quedará derogada la presente Constitución Política \\nde la República, cuyo texto refundido,  coordinado y sistematizado se encuentra', metadata={'source': 'text\\\\CONSTITUCIÓN_POLÍTICA_DE_LA_REPÚBLICA.txt'}),\n Document(page_content='5. La convocatoria  para la instalación de la Asamblea Constituyente será \\naprobada si en el referéndum es votada favorablemente por la mayoría de los \\nvotos válidamente emitidos.  \\nArtículo 387 \\n1. La Asamblea Constituyente tendrá como única función la redacción de una \\npropuesta  de nueva Constitución. Estará integrada paritariamente y con \\nequidad territorial, con participación en igualdad de condiciones entre \\nindependientes e integrantes de partidos políticos y con escaños reservados \\npara pueblos y naciones indígenas.  \\n2. Una ley regulará su integración; el sistema de elección; su duración, que no \\nserá inferior a dieciocho meses; su organización mínima; los mecanismos de participación popular y consulta indígena del proceso, y demás aspectos \\ngenerales que permitan su instalación y funcionamiento regular.  \\n3. Una vez redactada y entregada la propuesta de nueva Constitución a la autoridad competente, la Asamblea Constituyente se disolverá de pleno \\nderecho.  \\nArtícul o 38 8 \\n1. Entregada la propuesta de nueva Constitución, deberá convocarse a un referéndum para su aprobación o rechazo. Para que la propuesta sea \\naprobada, deberá obtener el voto favorable de más de la mitad de los \\nsufragios válidamente emitidos.  \\n2. Si la propuesta de nueva Constitución fuera aprobada en el plebiscito, se proced erá a su promulgación y correspondiente publicación.  \\n \\nCONSTITUCIÓN POLÍTICA DE LA REPÚBLICA  \\n 142  \\nDISPOSICIONES TRANSITORIAS  \\nPrimer a  \\nEsta Constitución entrará en vigencia desde la fecha de su publicación en el \\nDiario Oficial dentro de los diez días siguientes a su promulgación. A partir \\nde esta fe cha quedará derogada la Constitución Política de la República de \\n1980, promulgada mediante el decreto ley N° 3.464, de 1980, cuyo texto \\nrefundido, coordinado y sistematizado se encuentra establecido en el decreto supremo N°100, de 17 de septiembre de 2005, sus reformas \\nconstitucionales posteriores y sus leyes interpretativas, sin perjuicio de las \\nreglas contenidas en estas  disposiciones transitorias . \\nSegunda   \\nToda la normativa vigente seguirá en vigor mientras no sea derogada, modificada o sustituida, o bien , mientras no sea declarada contraria a la \\nConstitución por la Corte Constitucional de acuerdo con el procedimiento establecido en esta Constitución. A partir de la publicación de la \\nConstitución, los jefes de servicio de los órganos del Estado deberán ada ptar \\nsu normativa interna de conformidad con el principio de supremacía constitucional. Dentro de los cuatro años siguientes a la entrada en vigencia de esta Constitución, la iniciativa de derogación de ley contenida en el \\nartículo 158 también procederá re specto a leyes promu lgadas con \\nanterioridad a esta.  \\nTercera   \\n1.  El Presidente de la República deberá iniciar el trámite legislativo para adecuar \\nla legislación electoral a esta Constitución en el plazo de un año desde su \\nentrada en vigencia.', metadata={'source': 'text\\\\porpuesta_de_nueva_constitucion_2022.txt'}),\n Document(page_content='declarada contraria a la Constitución por el Tribunal Constitucional, en los casos \\nque proceda y de acuerdo con lo establecido en esta Constitución.\\n2. Se entenderá que las leyes actualmente vigentes referidas a materias que \\nconforme con esta Constitución deben ser objeto de leyes institucionales o de \\nquorum  especial, cumplen con los requisitos que establece esta Constitución y \\nseguirán aplicándose en lo que no sean contrarias a esta, mientras no se dicten los \\ncorrespondientes cuerpos legales.\\nTercera\\nLas personas que se hayan desempeñado como integrantes del Consejo \\nConstitucional, de la Comisión Experta o del Comité Técnico de Admisibilidad, \\nen conformidad con la ley de reforma constitucional Nº 21.533, no podrán ser \\ncandidatos a las próximas elecciones de Presidente de la República, diputado, \\nsenador, gobernador regional, consejero regional, alcalde y concejal. Asimismo, \\nno podrán ser candidatos a ningún otro cargo de elección popular en la primera \\nelección que corresponda a cada cargo que se cree en virtud de esta Constitución.\\n158\\nCuarta\\nEl Presidente de la República deberá enviar, dentro del plazo de tres años contado \\ndesde la entrada en vigencia de esta Constitución, un proyecto de ley que regule la \\nmateria a que se refiere el inciso 3 del artículo 3. Mientras no se promulgue dicha \\nley, las sentencias dictadas por tribunales internacionales en contra del Estado \\nde Chile, cuya jurisdicción este ha reconocido, así como los acuerdos o soluciones \\nalternativas de controversias, seguirán ejecutándose por las autoridades nacionales \\ndel modo que así lo dispongan y de conformidad con sus competencias.\\nQuinta\\nDentro de un año contado desde la entrada en vigencia de esta Constitución, el \\nPresidente de la República deberá enviar al Congreso Nacional un proyecto de ley \\npara crear la Agencia Nacional contra la Corrupción a que se refiere el inciso 6 del \\nartículo 8.\\nSexta\\nEl Presidente de la República deberá enviar, dentro del plazo de un año contado \\ndesde la entrada en vigencia de esta Constitución, un proyecto de ley para adecuar \\nla ley Nº 18.314, que determina conductas terroristas y fija su penalidad, a los \\nestándares de derechos humanos y de eficacia en la persecución penal fijados por \\naquella.  \\nSéptima\\nEl órgano al que se refiere el inciso 15 del artículo 16 es aquel regulado en la ley N° \\n20.285, sobre acceso a la información pública, el cual, para estos efectos, se entiende \\nque cumple el requisito de haber sido aprobado por una ley institucional.\\nOctava\\nEl Presidente de la República, dentro del plazo de cinco años contado desde la \\nentrada en vigencia de esta Constitución, deberá enviar un proyecto de ley para \\nregular la materia contenida en el inciso 17 de su artículo 16. En tanto no entre \\nen vigencia dicha ley, la reclamación será conocida por la Corte de Apelaciones \\nrespectiva, de acuerdo con el auto acordado que se dictará para esos efectos.\\nPropuesta Constitución Política de la República de Chile159\\nNovena', metadata={'source': 'text\\\\porpuesta_de_nueva_constitucion_2023.txt'})]"
     },
     "execution_count": 18,
     "metadata": {},
     "output_type": "execute_result"
    }
   ],
   "source": [
    "docsearch.similarity_search(\n",
    "    \"propuesta nueva constitución\",\n",
    "    k=7\n",
    ")"
   ],
   "metadata": {
    "collapsed": false,
    "ExecuteTime": {
     "end_time": "2023-11-26T23:27:25.300917300Z",
     "start_time": "2023-11-26T23:27:24.286836200Z"
    }
   },
   "id": "1c8a7797a446a17b"
  },
  {
   "cell_type": "code",
   "execution_count": null,
   "outputs": [],
   "source": [
    "# retriever = docsearch.as_retriever(search_type=\"similarity\", search_kwargs={\"k\": 4})"
   ],
   "metadata": {
    "collapsed": false
   },
   "id": "e097edef5e037648"
  },
  {
   "cell_type": "code",
   "execution_count": null,
   "outputs": [],
   "source": [],
   "metadata": {
    "collapsed": false
   },
   "id": "a192ec96441110aa"
  }
 ],
 "metadata": {
  "kernelspec": {
   "display_name": "Python 3",
   "language": "python",
   "name": "python3"
  },
  "language_info": {
   "codemirror_mode": {
    "name": "ipython",
    "version": 2
   },
   "file_extension": ".py",
   "mimetype": "text/x-python",
   "name": "python",
   "nbconvert_exporter": "python",
   "pygments_lexer": "ipython2",
   "version": "2.7.6"
  }
 },
 "nbformat": 4,
 "nbformat_minor": 5
}
