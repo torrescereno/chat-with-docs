{
 "cells": [
  {
   "cell_type": "code",
   "execution_count": 11,
   "outputs": [],
   "source": [
    "import os\n",
    "import tempfile\n",
    "\n",
    "from langchain.document_loaders import PyPDFLoader\n",
    "from langchain.text_splitter import RecursiveCharacterTextSplitter\n",
    "from langchain.embeddings import OpenAIEmbeddings\n",
    "from langchain.vectorstores import Pinecone\n",
    "from dotenv import load_dotenv\n",
    "import pinecone # noqa\n",
    "import tiktoken\n",
    "from PyPDF2 import PdfReader\n"
   ],
   "metadata": {
    "collapsed": false,
    "ExecuteTime": {
     "end_time": "2023-11-24T04:03:12.169251400Z",
     "start_time": "2023-11-24T04:03:12.159744200Z"
    }
   },
   "id": "81a9d7d11b6d43be"
  },
  {
   "cell_type": "code",
   "execution_count": 3,
   "outputs": [
    {
     "data": {
      "text/plain": "True"
     },
     "execution_count": 3,
     "metadata": {},
     "output_type": "execute_result"
    }
   ],
   "source": [
    "load_dotenv()"
   ],
   "metadata": {
    "collapsed": false,
    "ExecuteTime": {
     "end_time": "2023-11-24T03:59:25.084970800Z",
     "start_time": "2023-11-24T03:59:25.044886100Z"
    }
   },
   "id": "904ad1fe87081384"
  },
  {
   "cell_type": "code",
   "execution_count": 16,
   "outputs": [
    {
     "name": "stdout",
     "output_type": "stream",
     "text": [
      "CONSTITUCIÓN_POLÍTICA_DE_LA_REPÚBLICA.pdf\n",
      "porpuesta_nueva_constitucion_2023.pdf\n"
     ]
    }
   ],
   "source": [
    "pages = []\n",
    "temp_dir = tempfile.TemporaryDirectory()\n",
    "folder = 'data'\n",
    "\n",
    "for file in os.listdir(folder):\n",
    "    print(file)\n",
    "    \n",
    "    file_path = os.path.join(folder, file)\n",
    "    loader = PyPDFLoader(file_path=file_path)\n",
    "\n",
    "    pages.extend(loader.load())\n",
    "    "
   ],
   "metadata": {
    "collapsed": false,
    "ExecuteTime": {
     "end_time": "2023-11-24T04:05:25.867384600Z",
     "start_time": "2023-11-24T04:05:22.032828100Z"
    }
   },
   "id": "afde49c972306daf"
  },
  {
   "cell_type": "code",
   "execution_count": 17,
   "outputs": [
    {
     "data": {
      "text/plain": "375"
     },
     "execution_count": 17,
     "metadata": {},
     "output_type": "execute_result"
    }
   ],
   "source": [
    "len(pages)"
   ],
   "metadata": {
    "collapsed": false,
    "ExecuteTime": {
     "end_time": "2023-11-24T04:05:30.838005600Z",
     "start_time": "2023-11-24T04:05:30.817994700Z"
    }
   },
   "id": "376de71aaab5954c"
  },
  {
   "cell_type": "code",
   "execution_count": 18,
   "outputs": [],
   "source": [
    "text_splitter = RecursiveCharacterTextSplitter(chunk_size=1000, \n",
    "                                               chunk_overlap=200,\n",
    "                                               separators=[\"\\n\\n\", \"\\n\", \" \", \"\"])\n",
    "splits = text_splitter.split_documents(pages)"
   ],
   "metadata": {
    "collapsed": false,
    "ExecuteTime": {
     "end_time": "2023-11-24T04:05:32.425992900Z",
     "start_time": "2023-11-24T04:05:32.422993100Z"
    }
   },
   "id": "63f996b8a9b6159b"
  },
  {
   "cell_type": "code",
   "execution_count": 19,
   "outputs": [
    {
     "data": {
      "text/plain": "1143"
     },
     "execution_count": 19,
     "metadata": {},
     "output_type": "execute_result"
    }
   ],
   "source": [
    "len(splits)"
   ],
   "metadata": {
    "collapsed": false,
    "ExecuteTime": {
     "end_time": "2023-11-24T04:05:36.977949200Z",
     "start_time": "2023-11-24T04:05:36.966598900Z"
    }
   },
   "id": "6c48f081912b5e69"
  },
  {
   "cell_type": "code",
   "execution_count": 20,
   "outputs": [],
   "source": [
    "def consultar_costo_embedding(p):\n",
    "    enc = tiktoken.encoding_for_model('text-embedding-ada-002')\n",
    "    total_tokens = sum([len(enc.encode(page.page_content)) for page in p])\n",
    "    print(f\"Total tokens {total_tokens}\")\n",
    "    print(f\"Costo embedding {total_tokens / 1000 * 0.0001:.6f}\")"
   ],
   "metadata": {
    "collapsed": false,
    "ExecuteTime": {
     "end_time": "2023-11-24T04:05:38.538612500Z",
     "start_time": "2023-11-24T04:05:38.525104800Z"
    }
   },
   "id": "abf7d58cb0855895"
  },
  {
   "cell_type": "code",
   "execution_count": 21,
   "outputs": [
    {
     "name": "stdout",
     "output_type": "stream",
     "text": [
      "Total tokens 232306\n",
      "Costo embedding 0.023231\n"
     ]
    }
   ],
   "source": [
    "consultar_costo_embedding(pages)"
   ],
   "metadata": {
    "collapsed": false,
    "ExecuteTime": {
     "end_time": "2023-11-24T04:05:40.774849100Z",
     "start_time": "2023-11-24T04:05:38.919691300Z"
    }
   },
   "id": "a5edf704066b0a7"
  },
  {
   "cell_type": "code",
   "execution_count": 22,
   "outputs": [],
   "source": [
    "api_key = os.getenv('OPENAI_API_KEY')\n",
    "embeddings = OpenAIEmbeddings(openai_api_key=api_key)"
   ],
   "metadata": {
    "collapsed": false,
    "ExecuteTime": {
     "end_time": "2023-11-24T04:05:57.675242400Z",
     "start_time": "2023-11-24T04:05:57.660281Z"
    }
   },
   "id": "50aff8c4c1ed4754"
  },
  {
   "cell_type": "code",
   "execution_count": 23,
   "outputs": [],
   "source": [
    "api_pinecone = os.getenv('PINECONE_API_KEY')\n",
    "env_pinecone = os.getenv('PINECONE_ENV')\n",
    "\n",
    "pinecone.init(\n",
    "    api_key=api_pinecone,\n",
    "    environment=env_pinecone\n",
    ")\n",
    "index_name = \"constitution-idx\"\n",
    "\n",
    "if index_name not in pinecone.list_indexes():\n",
    "    pinecone.create_index(name=index_name, metric=\"cosine\", dimension=1536)\n",
    "\n",
    "# docsearch = Pinecone.from_text([t.page_content for t in pages], embeddings, index_name=index_name)\n",
    "docsearch = Pinecone.from_documents(pages, embeddings, index_name=index_name)\n",
    "\n",
    "# docsearch = Pinecone.from_existing_index(index_name, embeddings)"
   ],
   "metadata": {
    "collapsed": false,
    "ExecuteTime": {
     "end_time": "2023-11-24T04:06:36.487105400Z",
     "start_time": "2023-11-24T04:06:00.336622100Z"
    }
   },
   "id": "a0007dab3288bb43"
  },
  {
   "cell_type": "code",
   "execution_count": 24,
   "outputs": [
    {
     "data": {
      "text/plain": "{'dimension': 1536,\n 'index_fullness': 0.0,\n 'namespaces': {'': {'vector_count': 375}},\n 'total_vector_count': 375}"
     },
     "execution_count": 24,
     "metadata": {},
     "output_type": "execute_result"
    }
   ],
   "source": [
    "index = pinecone.Index(index_name)\n",
    "index.describe_index_stats()"
   ],
   "metadata": {
    "collapsed": false,
    "ExecuteTime": {
     "end_time": "2023-11-24T04:06:39.507717300Z",
     "start_time": "2023-11-24T04:06:38.875952600Z"
    }
   },
   "id": "797e4111cbb5dcad"
  },
  {
   "cell_type": "code",
   "execution_count": 25,
   "outputs": [
    {
     "data": {
      "text/plain": "[Document(page_content=' \\n 16\\n La educación básica y la educación media son obligatorias, debiendo el Estado \\nfinanciar un sistema gratuito con tal objeto, destinado a asegurar el acceso a ellas de \\ntoda la población. En el caso de la educac ión media este sistema, en conformidad a la \\nley, se extenderá hasta cumplir los 21 años de edad.49 \\nCorresponderá al Estado, asimismo, fomentar el desarrollo de la educación en \\ntodos sus niveles; estimular la investigación científica y tecnol ógica, la creación artística y \\nla protección e incremento del patrimonio cultural de la Nación. \\nEs deber de la comunidad contribuir al desarrollo y perfeccionamiento de la \\neducación;  \\n11°. La libertad de enseñanza incluye el derecho de abrir, organizar y mantener \\nestablecimientos educacionales.  \\nLa libertad de enseñanza no tiene otras limitaciones que las impuestas por la \\nmoral, las buenas costumbres, el orden público y la seguridad nacional.  \\nLa enseñanza reconocida oficialmente no podrá orientarse a propagar tendencia \\npolítico partidista alguna.  \\nLos padres tienen el derecho de escoger el establecimiento de enseñanza para sus \\nhijos.  \\nUna ley orgánica constitucional est ablecerá los requisitos mínimos que deberán \\nexigirse en cada uno de los niveles de la enseñanza básica y media y señalará las \\nnormas objetivas, de general aplicación, que permitan al Estado velar por su \\ncumplimiento. Dicha ley, del mismo modo, establecerá los requisitos para el \\nreconocimiento oficial de los establecimientos educacionales de todo nivel; 50 \\n12°. La libertad de emitir opinión y la de informar, sin censura previa, en cualquier \\nforma y por cualquier medio, sin perjuicio de responder de los delitos y abusos que se \\ncometan en el ejercicio de estas libertades, en conformidad a la ley, la que deber ser de \\nquórum calificado.  \\nLa ley en ningún caso podrá establecer monopolio estatal sobre los medios de \\ncomunicación social.  \\nToda persona natural o jurídica ofendida o injustamente aludida por algún medio de \\ncomunicación social, tiene derecho a que su declaración o rectificación sea gratuitamente \\ndifundida, en las condiciones que la ley determine, por el medio de comunicación social en que esa información hubiera sido emitida.  \\nToda persona natural o jurídica tiene el derecho de fundar, editar y mantener \\ndiarios, revistas y periódicos, en las condiciones que señale la ley.  \\n                        \\n \\n \\n \\n49 Inciso sustituido por el artículo único de la ley de Reforma Constitucional Nº 19.876. \\n50 Véase la ley Nº 20.370, Ley General de Educación.. ', metadata={'page': 15.0, 'source': 'data\\\\CONSTITUCIÓN_POLÍTICA_DE_LA_REPÚBLICA.pdf'}),\n Document(page_content='24\\nc) El Estado tiene el deber ineludible de fortalecer la educación en todos sus \\nniveles y fomentar su mejoramiento continuo, ejerciendo labores de \\npromoción, regulación y supervigilancia.\\nd)  Es deber del Estado promover la educación parvularia, para lo que financiará \\ny coordinará un sistema gratuito a partir del nivel sala cuna menor, destinado \\na asegurar el acceso a este y a sus niveles superiores. El segundo nivel de \\ntransición es obligatorio, siendo requisito para el ingreso a la educación \\nbásica.\\ne)  La educación básica y la educación media son obligatorias, debiendo el \\nEstado financiar y coordinar un sistema gratuito con tal objeto, destinado a \\nasegurar el acceso a ellas de toda la población, garantizando el financiamiento \\npor estudiante en establecimientos estatales y privados. En el caso de la \\neducación media la obligatoriedad se extenderá hasta cumplir los veintiún \\naños de edad.\\nf)  Se asignarán recursos públicos a instituciones estatales y privadas, según \\ncriterios de razonabilidad, calidad y no discriminación arbitraria. En ningún \\ncaso dicha asignación podrá condicionar la libertad de enseñanza.\\ng)  La ley contemplará mecanismos que aseguren la no discriminación arbitraria \\nen el acceso y el financiamiento de los estudiantes a la educación superior.\\nh)  El Estado garantizará el financiamiento de la educación de personas con \\nnecesidades educativas especiales, de conformidad con la ley.\\ni)  El Estado deberá sostener y coordinar una red pluralista de establecimientos \\nde educación de calidad en todos los niveles de enseñanza.\\nj)  El Estado proveerá educación pública, pluralista y de calidad, a través de \\nestablecimientos propios en todos los niveles. El Estado garantizará el \\nfinanciamiento de sus establecimientos de educación parvularia, básica \\ny media. En cualquier caso, la ley podrá entregar financiamiento a sus \\ninstituciones de educación superior.\\nk)  Es deber de la familia y la comunidad contribuir al desarrollo y \\nperfeccionamiento de la educación. Asimismo, corresponderá al Estado \\nasegurar la calidad de la educación en todos sus niveles y fomentar la \\nformación cívica, estimular la investigación científica y tecnológica, la ', metadata={'page': 23.0, 'source': 'data\\\\porpuesta_nueva_constitucion_2023.pdf'}),\n Document(page_content='Propuesta Constitución Política de la República de Chile25\\ncreación artística y la protección e incremento del patrimonio cultural de la \\nNación.\\nl)  Es deber del Estado y de toda comunidad educativa promover el desarrollo \\nprofesional y respeto de los docentes y asistentes de la educación.\\n24. La libertad de enseñanza.\\na)  La libertad de enseñanza comprende el derecho de las personas de abrir, \\norganizar y mantener establecimientos educacionales, así como de crear y \\ndesarrollar proyectos e idearios educativos, sin otras limitaciones que las \\nimpuestas por la moral, el orden público y la seguridad del país.\\nb)  La libertad de enseñanza existe para garantizar a las familias, a través de los \\npadres o tutores legales, según sea el caso, el derecho preferente y el deber de \\neducar a sus hijos o pupilos; de escoger el tipo de educación; y de enseñarles \\npor sí mismos o de elegir para ellos el establecimiento de enseñanza que \\nestimen de acuerdo con sus convicciones morales o religiosas. Asimismo, \\ngarantiza a toda persona la elección del establecimiento educacional de su \\npreferencia.\\nc)  La enseñanza estatal y la reconocida oficialmente no podrá orientarse a \\npropagar tendencia político-partidista alguna.\\nd)  Las autoridades de las instituciones educacionales de todo nivel deberán \\nvelar por el respeto al interior de la comunidad educativa, adoptando las \\nmedidas necesarias para prevenir o sancionar actos que afecten gravemente \\nel orden o la convivencia. La ley contemplará las facultades y atribuciones \\nnecesarias para el ejercicio de este deber, así como las responsabilidades por \\nsu incumplimiento.\\ne)  El Estado deberá garantizar la continuidad del servicio educativo en sus \\nestablecimientos educacionales.\\nf)  El Estado respeta la autonomía de las instituciones de educación superior.\\ng)  Los establecimientos educacionales tendrán la libertad para determinar sus \\ncontenidos curriculares conforme a la identidad e integridad de su proyecto. \\nSin perjuicio de lo anterior, el Estado fijará contenidos mínimos para la \\neducación parvularia, básica y media, los que no implicarán el uso de un \\nporcentaje mayor a la mitad de las horas lectivas al momento de impartirlos, ', metadata={'page': 24.0, 'source': 'data\\\\porpuesta_nueva_constitucion_2023.pdf'}),\n Document(page_content='26\\na fin de garantizar la autonomía y diversidad educativa. Con todo, el Estado \\nelaborará un programa con contenidos mínimos que comprenda el uso de \\nla totalidad de la jornada escolar, al que podrán adherirse libremente, de \\nmanera parcial o total, los establecimientos educacionales.\\nh)  Una ley de quorum calificado establecerá los requisitos mínimos que deberán \\nexigirse en cada uno de los niveles de la enseñanza básica y media y señalará las \\nnormas objetivas, de general aplicación, que permitan al Estado velar por su \\ncumplimiento. Dichos requisitos deberán ser razonables y estarán referidos \\núnicamente a conocimientos esenciales y compatibles con la pluralidad de \\nproyectos educativos. Del mismo modo, dicha ley establecerá los requisitos \\npara el reconocimiento oficial de los establecimientos educacionales de todo \\nnivel.\\ni)  El Estado promoverá la diversidad de proyectos educativos a nivel local y \\nregional.\\n25. El derecho a la cultura.\\na)  El Estado resguarda el derecho a participar en la vida cultural y científica. \\nAsimismo, protege la libertad creativa, su libre ejercicio y su difusión; \\npromueve el desarrollo y la divulgación del conocimiento, de las artes, las \\nciencias, la tecnología y el patrimonio cultural; y facilita el acceso a los bienes \\ny servicios culturales.\\nb)  El Estado reconoce la función que este derecho cumple en la realización de \\nla persona y en el desarrollo de la comunidad, promoviéndola a través de la \\ncolaboración entre el Estado y la sociedad civil.\\nc)  El Estado promoverá la relación armónica y el respeto de todas las \\nmanifestaciones de la cultura. Asimismo, fomentará la actividad cultural \\nmediante distintos mecanismos de financiamiento, considerando la \\ndiversidad local y regional, y garantizando la debida pluralidad de visiones.\\n26. El derecho al trabajo decente, a su libre elección y libre contratación.\\na)  El derecho al trabajo decente consiste en el acceso a condiciones laborales \\nequitativas, la seguridad y salud en el trabajo, así como a una remuneración \\njusta, al descanso y la desconexión digital, con pleno respeto de los derechos \\nfundamentales del trabajador en el marco de la relación laboral. La ley \\nestablecerá las condiciones para el ejercicio de este derecho.', metadata={'page': 25.0, 'source': 'data\\\\porpuesta_nueva_constitucion_2023.pdf'})]"
     },
     "execution_count": 25,
     "metadata": {},
     "output_type": "execute_result"
    }
   ],
   "source": [
    "docsearch.similarity_search(\n",
    "    \"educación\",\n",
    "    k=4\n",
    ")"
   ],
   "metadata": {
    "collapsed": false,
    "ExecuteTime": {
     "end_time": "2023-11-24T04:06:42.120636800Z",
     "start_time": "2023-11-24T04:06:41.621009900Z"
    }
   },
   "id": "1c8a7797a446a17b"
  },
  {
   "cell_type": "code",
   "execution_count": null,
   "outputs": [],
   "source": [
    "# retriever = docsearch.as_retriever(search_type=\"similarity\", search_kwargs={\"k\": 4})"
   ],
   "metadata": {
    "collapsed": false
   },
   "id": "e097edef5e037648"
  },
  {
   "cell_type": "code",
   "execution_count": null,
   "outputs": [],
   "source": [],
   "metadata": {
    "collapsed": false
   },
   "id": "a192ec96441110aa"
  }
 ],
 "metadata": {
  "kernelspec": {
   "display_name": "Python 3",
   "language": "python",
   "name": "python3"
  },
  "language_info": {
   "codemirror_mode": {
    "name": "ipython",
    "version": 2
   },
   "file_extension": ".py",
   "mimetype": "text/x-python",
   "name": "python",
   "nbconvert_exporter": "python",
   "pygments_lexer": "ipython2",
   "version": "2.7.6"
  }
 },
 "nbformat": 4,
 "nbformat_minor": 5
}
