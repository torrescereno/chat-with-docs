{
 "cells": [
  {
   "cell_type": "code",
   "execution_count": 1,
   "outputs": [
    {
     "name": "stderr",
     "output_type": "stream",
     "text": [
      "C:\\Users\\torre\\Documents\\Dev\\chat-with-docs\\venv\\lib\\site-packages\\pinecone\\index.py:4: TqdmExperimentalWarning: Using `tqdm.autonotebook.tqdm` in notebook mode. Use `tqdm.tqdm` instead to force console mode (e.g. in jupyter console)\n",
      "  from tqdm.autonotebook import tqdm\n"
     ]
    }
   ],
   "source": [
    "import os\n",
    "import tempfile\n",
    "\n",
    "from langchain.document_loaders import PyPDFLoader, TextLoader\n",
    "from langchain.text_splitter import RecursiveCharacterTextSplitter\n",
    "from langchain.embeddings import OpenAIEmbeddings\n",
    "from langchain.vectorstores import Pinecone\n",
    "from dotenv import load_dotenv\n",
    "import pinecone # noqa\n",
    "import tiktoken\n",
    "from PyPDF2 import PdfReader"
   ],
   "metadata": {
    "collapsed": false,
    "ExecuteTime": {
     "end_time": "2023-11-27T03:35:04.662303600Z",
     "start_time": "2023-11-27T03:35:02.764627Z"
    }
   },
   "id": "81a9d7d11b6d43be"
  },
  {
   "cell_type": "code",
   "execution_count": 2,
   "outputs": [
    {
     "data": {
      "text/plain": "True"
     },
     "execution_count": 2,
     "metadata": {},
     "output_type": "execute_result"
    }
   ],
   "source": [
    "load_dotenv()"
   ],
   "metadata": {
    "collapsed": false,
    "ExecuteTime": {
     "end_time": "2023-11-27T03:35:04.672303700Z",
     "start_time": "2023-11-27T03:35:04.658305800Z"
    }
   },
   "id": "904ad1fe87081384"
  },
  {
   "cell_type": "markdown",
   "source": [
    "Lectura de pdf y conversion a un solo texto"
   ],
   "metadata": {
    "collapsed": false
   },
   "id": "d682bb16909243d3"
  },
  {
   "cell_type": "code",
   "execution_count": 7,
   "outputs": [
    {
     "name": "stdout",
     "output_type": "stream",
     "text": [
      "CONSTITUCIÓN_POLÍTICA_DE_LA_REPÚBLICA.txt\n",
      "porpuesta_de_nueva_constitucion_2022.txt\n",
      "porpuesta_de_nueva_constitucion_2023.txt\n"
     ]
    }
   ],
   "source": [
    "docs = []\n",
    "temp_dir = tempfile.TemporaryDirectory()\n",
    "folder = 'data'\n",
    "texto = \"\"\n",
    "\n",
    "for file in os.listdir(folder):\n",
    "    path_file = os.path.join(folder, file)\n",
    "    reader = PdfReader(path_file)\n",
    "    \n",
    "    metadata = {\n",
    "        \"titulo\": file.replace(\"_\", \" \").replace(\".pdf\", \"\"),\n",
    "        \"tipo\": \"Propuesta de Constitución\" if \"propuesta\" in file.lower() else \"Constitución Vigente\",\n",
    "    }\n",
    "    \n",
    "    texto = \"--------------------------\\n\"\n",
    "    texto += f\"INICIO DEL DOCUMENTO\\nTITULO: {metadata['titulo']}\\nTIPO: {metadata['tipo']}\\n\"\n",
    "    \n",
    "    for pagina in reader.pages:\n",
    "        texto += pagina.extract_text() + '\\n'\n",
    "        \n",
    "    texto += \"FIN DEL DOCUMENTO\\n\"\n",
    "    texto += \"--------------------------\\n\"\n",
    "    \n",
    "    with open(f'text/{file.replace(\".pdf\", \".txt\")}', 'w', encoding='utf-8') as archivo_txt:\n",
    "        archivo_txt.write(texto)\n",
    "        \n",
    "# Crear loaders\n",
    "folder = 'text'\n",
    "\n",
    "for file in os.listdir(folder):\n",
    "    print(file)\n",
    "    \n",
    "    file_path = os.path.join(folder, file)\n",
    "    loader = TextLoader(file_path, encoding='utf-8')\n",
    "    docs.extend(loader.load())"
   ],
   "metadata": {
    "collapsed": false,
    "ExecuteTime": {
     "end_time": "2023-11-27T04:08:24.867799200Z",
     "start_time": "2023-11-27T04:08:18.331905700Z"
    }
   },
   "id": "cd781ff9f2cd3197"
  },
  {
   "cell_type": "markdown",
   "source": [
    "Lectura de pdf y creación de loader"
   ],
   "metadata": {
    "collapsed": false
   },
   "id": "35cd1fccd46e8f2e"
  },
  {
   "cell_type": "code",
   "execution_count": 6,
   "outputs": [
    {
     "name": "stdout",
     "output_type": "stream",
     "text": [
      "CONSTITUCIÓN_POLÍTICA_DE_LA_REPÚBLICA.pdf\n",
      "porpuesta_de_nueva_constitucion_2022.pdf\n",
      "porpuesta_de_nueva_constitucion_2023.pdf\n"
     ]
    }
   ],
   "source": [
    "docs = []\n",
    "temp_dir = tempfile.TemporaryDirectory()\n",
    "folder = 'data'\n",
    "\n",
    "for file in os.listdir(folder):\n",
    "    print(file)\n",
    "    \n",
    "    file_path = os.path.join(folder, file)\n",
    "    loader = PyPDFLoader(file_path=file_path)\n",
    "\n",
    "    docs.extend(loader.load_and_split())"
   ],
   "metadata": {
    "collapsed": false,
    "ExecuteTime": {
     "end_time": "2023-11-26T23:00:34.960236600Z",
     "start_time": "2023-11-26T23:00:27.918395300Z"
    }
   },
   "id": "1cb9e87739d131e7"
  },
  {
   "cell_type": "code",
   "execution_count": 8,
   "outputs": [
    {
     "data": {
      "text/plain": "3"
     },
     "execution_count": 8,
     "metadata": {},
     "output_type": "execute_result"
    }
   ],
   "source": [
    "len(docs)"
   ],
   "metadata": {
    "collapsed": false,
    "ExecuteTime": {
     "end_time": "2023-11-27T04:08:25.641069700Z",
     "start_time": "2023-11-27T04:08:25.634563600Z"
    }
   },
   "id": "301d5985e81cd113"
  },
  {
   "cell_type": "code",
   "execution_count": 9,
   "outputs": [],
   "source": [
    "text_splitter = RecursiveCharacterTextSplitter(chunk_size=500, chunk_overlap=20)\n",
    "splits = text_splitter.split_documents(docs)"
   ],
   "metadata": {
    "collapsed": false,
    "ExecuteTime": {
     "end_time": "2023-11-27T04:09:12.317384Z",
     "start_time": "2023-11-27T04:09:12.304873100Z"
    }
   },
   "id": "63f996b8a9b6159b"
  },
  {
   "cell_type": "code",
   "execution_count": 10,
   "outputs": [
    {
     "data": {
      "text/plain": "2661"
     },
     "execution_count": 10,
     "metadata": {},
     "output_type": "execute_result"
    }
   ],
   "source": [
    "len(splits)"
   ],
   "metadata": {
    "collapsed": false,
    "ExecuteTime": {
     "end_time": "2023-11-27T04:09:12.525040500Z",
     "start_time": "2023-11-27T04:09:12.519043Z"
    }
   },
   "id": "e4266c3f8a684555"
  },
  {
   "cell_type": "code",
   "execution_count": 11,
   "outputs": [],
   "source": [
    "def consultar_costo_embedding(p):\n",
    "    enc = tiktoken.encoding_for_model('text-embedding-ada-002')\n",
    "    total_tokens = sum([len(enc.encode(page.page_content)) for page in p])\n",
    "    print(f\"Total tokens {total_tokens}\")\n",
    "    print(f\"Costo embedding {total_tokens / 1000 * 0.0001:.6f}\")"
   ],
   "metadata": {
    "collapsed": false,
    "ExecuteTime": {
     "end_time": "2023-11-27T04:09:14.266652900Z",
     "start_time": "2023-11-27T04:09:14.261662900Z"
    }
   },
   "id": "abf7d58cb0855895"
  },
  {
   "cell_type": "code",
   "execution_count": 12,
   "outputs": [
    {
     "name": "stdout",
     "output_type": "stream",
     "text": [
      "Total tokens 330629\n",
      "Costo embedding 0.033063\n"
     ]
    }
   ],
   "source": [
    "consultar_costo_embedding(splits)"
   ],
   "metadata": {
    "collapsed": false,
    "ExecuteTime": {
     "end_time": "2023-11-27T04:09:15.109622800Z",
     "start_time": "2023-11-27T04:09:14.593726200Z"
    }
   },
   "id": "a5edf704066b0a7"
  },
  {
   "cell_type": "code",
   "execution_count": 13,
   "outputs": [],
   "source": [
    "api_key = os.getenv('OPENAI_API_KEY')\n",
    "embeddings = OpenAIEmbeddings(openai_api_key=api_key)"
   ],
   "metadata": {
    "collapsed": false,
    "ExecuteTime": {
     "end_time": "2023-11-27T04:09:17.127223800Z",
     "start_time": "2023-11-27T04:09:17.101712300Z"
    }
   },
   "id": "50aff8c4c1ed4754"
  },
  {
   "cell_type": "code",
   "execution_count": 14,
   "outputs": [],
   "source": [
    "api_pinecone = os.getenv('PINECONE_API_KEY')\n",
    "env_pinecone = os.getenv('PINECONE_ENV')\n",
    "\n",
    "pinecone.init(\n",
    "    api_key=api_pinecone,\n",
    "    environment=env_pinecone\n",
    ")\n",
    "index_name = \"constitution-idx\"\n"
   ],
   "metadata": {
    "collapsed": false,
    "ExecuteTime": {
     "end_time": "2023-11-27T04:09:20.221813500Z",
     "start_time": "2023-11-27T04:09:19.354696Z"
    }
   },
   "id": "e49b2233f76bf8e9"
  },
  {
   "cell_type": "code",
   "execution_count": 15,
   "outputs": [
    {
     "data": {
      "text/plain": "{'dimension': 1536,\n 'index_fullness': 0.0,\n 'namespaces': {'': {'vector_count': 2661}},\n 'total_vector_count': 2661}"
     },
     "execution_count": 15,
     "metadata": {},
     "output_type": "execute_result"
    }
   ],
   "source": [
    "if index_name not in pinecone.list_indexes():\n",
    "    pinecone.create_index(name=index_name, metric=\"cosine\", dimension=1536)\n",
    "\n",
    "# docsearch = Pinecone.from_text([t.page_content for t in pages], embeddings, index_name=index_name)\n",
    "# docsearch = Pinecone.from_documents(pages, embeddings, index_name=index_name)\n",
    "docsearch = Pinecone.from_documents(splits, embeddings, index_name=index_name)\n",
    "\n",
    "# docsearch = Pinecone.from_existing_index(index_name, embeddings)\n",
    "\n",
    "index = pinecone.Index(index_name)\n",
    "index.describe_index_stats()"
   ],
   "metadata": {
    "collapsed": false,
    "ExecuteTime": {
     "end_time": "2023-11-27T04:10:13.702096600Z",
     "start_time": "2023-11-27T04:09:21.886535400Z"
    }
   },
   "id": "a0007dab3288bb43"
  },
  {
   "cell_type": "code",
   "execution_count": 23,
   "outputs": [
    {
     "data": {
      "text/plain": "[Document(page_content='marzo de 2026. Las y los actuales integrantes del Senado terminarán sus \\nmandatos el 11 de marzo de 2026 y podrán postular a las elecciones para el \\nCongreso de Diputadas y Diputados y la Cámara de las Regiones que se realizará en noviembre de 2025, donde serán elegidas las diputadas y \\ndiputados y representantes regionales que ejercerán sus funci ones desde el \\n11 de marzo de 2026. De ser electos en los comicios celebrados en 2025 para', metadata={'source': 'text\\\\porpuesta_de_nueva_constitucion_2022.txt'}),\n Document(page_content='Congreso Nacional en la ciudad de Santiago, con fecha 6 de marzo de 2023, e iniciará la \\nredacción de un anteproyecto de nueva Cons titución. En la misma fecha, entrará en \\nfunciones el Comité Técnico de Admisibilidad. \\nLa Comisión Experta deberá aprobar cada norma que formará parte del \\nanteproyecto de propuesta de nueva Constituci ón por un quórum de los tres quintos de \\nsus miembros en ejercicio. \\nEl anteproyecto de nueva Constitución deberá ser despachado por la Comisión', metadata={'source': 'text\\\\CONSTITUCIÓN_POLÍTICA_DE_LA_REPÚBLICA.txt'}),\n Document(page_content='--------------------------\\nINICIO DEL DOCUMENTO\\nTITULO: porpuesta de nueva constitucion 2023\\nTIPO: Constitución Vigente\\nCONSTITUCIÓN POLÍTICAPROPUESTA \\nDE LA REPÚBLICA DE CHILE\\n2\\nEsta propuesta de Constitución Política de la República fue elaborada y \\naprobada por el Consejo Constitucional, elegido el día 7 de mayo de 2023, \\na partir del anteproyecto elaborado por la Comisión Experta, nombrada por \\nla Cámara de Diputadas y Diputados y el Senado.', metadata={'source': 'text\\\\porpuesta_de_nueva_constitucion_2023.txt'}),\n Document(page_content='marzo de 2021, y luego modificado, como figura en el texto, por el artículo único, número 3, de la reforma constitucional que posterga las próximas elecciones municipales, de gobernadores r egionales y de convencionales cons tituyentes por motivo del \\ncovid-19, contenida en la ley N°21.234, publicada en el Diario Oficial el 7 de abril de 2021. \\n348 Disposición agregada por el artículo único, número 4, de la ley de reforma constitucional N°21.221, que fija un nuevo', metadata={'source': 'text\\\\CONSTITUCIÓN_POLÍTICA_DE_LA_REPÚBLICA.txt'}),\n Document(page_content='La cuenta del estado administrativo y político de la Nación ante el Congreso Pleno \\na que se refiere el inciso tercero del artículo 24, el año 2020 se realizará el día 31 de \\njulio.345 \\n \\n                         \\n \\n \\n340 Inciso modificado, como figura en el texto, por el artículo único, número 3, de la ley de reforma constitucional N°21.221, que  \\nfija un nuevo calendario electoral, publicada en el Diario Oficial el 26 de marzo de 2020.', metadata={'source': 'text\\\\CONSTITUCIÓN_POLÍTICA_DE_LA_REPÚBLICA.txt'}),\n Document(page_content='Oficial el 17 de marzo de 2021, y luego modificado, como figura en el  texto, por el artículo único, número 4, letra a), de la \\nreforma constitucional que posterga las próximas elecciones municipales, de gobernadores regionales y de convencionales constituyentes por motivo del covid-19, contenida en la ley N°21.234, publicada en el Diario Oficial el 7 de abril de 2021.', metadata={'source': 'text\\\\CONSTITUCIÓN_POLÍTICA_DE_LA_REPÚBLICA.txt'}),\n Document(page_content='otra. La primera de ellas, tendrá en su parte inferior la expresión “A favor”, y la segunda, \\nla expresión “En contra”, a fin de que el elec tor pueda marcar su preferencia sobre una de \\nlas alternativas. \\nEste plebiscito se celebrará el 17 de diciembre de 2023. \\nEl proceso de calificación del plebiscito nacional deberá quedar concluido dentro \\nde los treinta días siguientes a la fecha de éste. La sentencia de proclamación del', metadata={'source': 'text\\\\CONSTITUCIÓN_POLÍTICA_DE_LA_REPÚBLICA.txt'}),\n Document(page_content='Artículo 144.- Convócase a elección de miembros del Consejo Constitucional, la \\nque se realizará el 7 de mayo de 2023. El nuevo procedimiento para elaborar una \\nConstitución Política de la República, contenido en este epígrafe, se regirá únicamente \\npor lo dispuesto en este artículo y por lo prescrito en los artículos 145 a 161 y en la \\ndisposición quincuagésima segunda transitoria, debiendo ceñirse estrictamente al principio de eficiencia en el gasto público.', metadata={'source': 'text\\\\CONSTITUCIÓN_POLÍTICA_DE_LA_REPÚBLICA.txt'}),\n Document(page_content='327 Inciso sustituido por el artículo único, número 2, letra a), de la ley de reforma constitucional N°21.221, que fija un nuevo \\ncalendario electoral, publicada en el Diario Oficial el 26 de ma rzo de 2020, por el artículo único, número 2, de la reforma \\nconstitucional que amplía a dos días la s próximas elecciones municipales, de gobernadores regionales y de convencionales', metadata={'source': 'text\\\\CONSTITUCIÓN_POLÍTICA_DE_LA_REPÚBLICA.txt'}),\n Document(page_content='La primera elección por sufragio universal en votación directa de los consejeros \\nregionales a que se refiere el inciso segundo del artículo 113 se realizará en conjunto con \\nlas elecciones de Presidente de la República y Parlamentarios, el día 17 de noviembre \\ndel año 2013. \\nPara este efecto, las adecuaciones a la ley orgánica constitucional respectiva \\ndeberán entrar en vigencia antes del 20 de julio del año 2013.324', metadata={'source': 'text\\\\CONSTITUCIÓN_POLÍTICA_DE_LA_REPÚBLICA.txt'})]"
     },
     "execution_count": 23,
     "metadata": {},
     "output_type": "execute_result"
    }
   ],
   "source": [
    "docsearch.similarity_search(\n",
    "    \"2023\",\n",
    "    k=10\n",
    ")"
   ],
   "metadata": {
    "collapsed": false,
    "ExecuteTime": {
     "end_time": "2023-11-27T04:14:00.594682300Z",
     "start_time": "2023-11-27T04:14:00.106440700Z"
    }
   },
   "id": "1c8a7797a446a17b"
  },
  {
   "cell_type": "code",
   "execution_count": null,
   "outputs": [],
   "source": [
    "# retriever = docsearch.as_retriever(search_type=\"similarity\", search_kwargs={\"k\": 4})"
   ],
   "metadata": {
    "collapsed": false
   },
   "id": "e097edef5e037648"
  },
  {
   "cell_type": "code",
   "execution_count": null,
   "outputs": [],
   "source": [],
   "metadata": {
    "collapsed": false
   },
   "id": "a192ec96441110aa"
  }
 ],
 "metadata": {
  "kernelspec": {
   "display_name": "Python 3",
   "language": "python",
   "name": "python3"
  },
  "language_info": {
   "codemirror_mode": {
    "name": "ipython",
    "version": 2
   },
   "file_extension": ".py",
   "mimetype": "text/x-python",
   "name": "python",
   "nbconvert_exporter": "python",
   "pygments_lexer": "ipython2",
   "version": "2.7.6"
  }
 },
 "nbformat": 4,
 "nbformat_minor": 5
}
