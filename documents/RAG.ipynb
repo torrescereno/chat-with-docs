{
 "cells": [
  {
   "cell_type": "code",
   "execution_count": 12,
   "id": "initial_id",
   "metadata": {
    "collapsed": true,
    "ExecuteTime": {
     "end_time": "2023-11-26T21:04:39.475281600Z",
     "start_time": "2023-11-26T21:04:39.459669800Z"
    }
   },
   "outputs": [],
   "source": [
    "import os\n",
    "from operator import itemgetter\n",
    "from typing import List, Tuple\n",
    "\n",
    "from dotenv import load_dotenv\n",
    "from langchain.chat_models import ChatOpenAI\n",
    "from langchain.embeddings import OpenAIEmbeddings\n",
    "from langchain.prompts import ChatPromptTemplate, MessagesPlaceholder\n",
    "from langchain.prompts.prompt import PromptTemplate\n",
    "from langchain.schema import AIMessage, HumanMessage, format_document\n",
    "from langchain.schema.output_parser import StrOutputParser\n",
    "from langchain.schema.runnable import (\n",
    "    RunnableBranch,\n",
    "    RunnableLambda,\n",
    "    RunnableMap,\n",
    "    RunnablePassthrough,\n",
    ")\n",
    "import pinecone # noqa\n",
    "from langchain.vectorstores import Pinecone\n",
    "from pydantic import BaseModel, Field"
   ]
  },
  {
   "cell_type": "code",
   "execution_count": 13,
   "outputs": [
    {
     "data": {
      "text/plain": "True"
     },
     "execution_count": 13,
     "metadata": {},
     "output_type": "execute_result"
    }
   ],
   "source": [
    "load_dotenv()"
   ],
   "metadata": {
    "collapsed": false,
    "ExecuteTime": {
     "end_time": "2023-11-26T21:04:39.773516300Z",
     "start_time": "2023-11-26T21:04:39.757955100Z"
    }
   },
   "id": "df3bd076be7307c7"
  },
  {
   "cell_type": "code",
   "execution_count": 14,
   "outputs": [],
   "source": [
    "api_pinecone = os.getenv('PINECONE_API_KEY')\n",
    "env_pinecone = os.getenv('PINECONE_ENV')\n",
    "\n",
    "pinecone.init(\n",
    "    api_key=api_pinecone,\n",
    "    environment=env_pinecone\n",
    ")\n",
    "index_name = \"constitution-idx\""
   ],
   "metadata": {
    "collapsed": false,
    "ExecuteTime": {
     "end_time": "2023-11-26T21:04:40.826291600Z",
     "start_time": "2023-11-26T21:04:40.201376900Z"
    }
   },
   "id": "6c702814adb2c922"
  },
  {
   "cell_type": "code",
   "execution_count": 23,
   "outputs": [],
   "source": [
    "vectorstore = Pinecone.from_existing_index(index_name, OpenAIEmbeddings())\n",
    "retriever = vectorstore.as_retriever(search_kwargs={\"k\": 5})"
   ],
   "metadata": {
    "collapsed": false,
    "ExecuteTime": {
     "end_time": "2023-11-26T21:07:00.291326400Z",
     "start_time": "2023-11-26T21:06:59.344839900Z"
    }
   },
   "id": "78dd86940de2c705"
  },
  {
   "cell_type": "code",
   "execution_count": 24,
   "outputs": [],
   "source": [
    "_template = \"\"\"\n",
    "Given the following conversation and a follow up question, rephrase the follow up question to be a standalone question, in its original language.\n",
    "Chat History:\n",
    "{chat_history}\n",
    "Follow Up Input: {question}\n",
    "Standalone question:\"\"\"  # noqa: E501\n",
    "CONDENSE_QUESTION_PROMPT = PromptTemplate.from_template(_template)\n",
    "\n",
    "template = \"\"\"\n",
    "Dado el contexto proporcionado, debes responder asumiendo el rol de un experto en derecho constitucional con un inmenso conocimiento y experiencia en el campo.\n",
    "Debes responder las preguntas basado en tu conocimiento y en la conversación previa. no inventes respuestas.\n",
    "Reformula la pregunta para que sea una pregunta independiente, en su idioma original y mantenga el contexto de la conversación.\n",
    "En el contexto encontrarás tres documentos los cuales empiezan con inicio del documento seguido del titulo y finalizan con fin del documento.\n",
    "\n",
    "los documentos hacen referencia a la constitución actual de la república de chile, la propuestas para el cambio de la constitución del 2022 y la propuesta para el cambio de la constitución del 2023.\n",
    "\n",
    "En el contexto encontrarás tres documentos los cuales empiezan con INICIO DEL DOCUMENTO seguido del TITULO y finalizan con FIN DEL DOCUMENTO.\n",
    "El primer documento es la Constitución actual de la República de chile\n",
    "El segundo documento es la propuestas para el cambio de la constitución del 2022 y tiene como titulo propuesta de nueva constitución 2022\n",
    "El tercer documento es la propuesta para el cambio de la constitución del 2023 y tiene como titulo propuesta de nueva constitución 2023\n",
    "        \n",
    "<context>\n",
    "{context}\n",
    "</context>\"\"\"\n",
    "\n",
    "ANSWER_PROMPT = ChatPromptTemplate.from_messages(\n",
    "    [\n",
    "        (\"system\", template),\n",
    "        MessagesPlaceholder(variable_name=\"chat_history\"),\n",
    "        (\"user\", \"{question}\"),\n",
    "    ]\n",
    ")\n",
    "\n",
    "DEFAULT_DOCUMENT_PROMPT = PromptTemplate.from_template(template=\"{page_content}\")"
   ],
   "metadata": {
    "collapsed": false,
    "ExecuteTime": {
     "end_time": "2023-11-26T21:08:05.186601Z",
     "start_time": "2023-11-26T21:08:05.174084700Z"
    }
   },
   "id": "bfe135010a80401d"
  },
  {
   "cell_type": "code",
   "execution_count": 25,
   "outputs": [],
   "source": [
    "def _combine_documents(\n",
    "    docs, document_prompt=DEFAULT_DOCUMENT_PROMPT, document_separator=\"\\n\\n\"\n",
    "):\n",
    "    doc_strings = [format_document(doc, document_prompt) for doc in docs]\n",
    "    return document_separator.join(doc_strings)"
   ],
   "metadata": {
    "collapsed": false,
    "ExecuteTime": {
     "end_time": "2023-11-26T21:08:08.845615500Z",
     "start_time": "2023-11-26T21:08:08.826810600Z"
    }
   },
   "id": "fb810ba2236e41ab"
  },
  {
   "cell_type": "code",
   "execution_count": 28,
   "outputs": [],
   "source": [
    "def _format_chat_history(chat_history: List[Tuple[str, str]]) -> List:\n",
    "    buffer = []\n",
    "    for human, ai in chat_history:\n",
    "        buffer.append(HumanMessage(content=human))\n",
    "        buffer.append(AIMessage(content=ai))\n",
    "    return buffer"
   ],
   "metadata": {
    "collapsed": false,
    "ExecuteTime": {
     "end_time": "2023-11-26T21:08:19.425753500Z",
     "start_time": "2023-11-26T21:08:19.418226200Z"
    }
   },
   "id": "199152532c603a08"
  },
  {
   "cell_type": "code",
   "execution_count": 29,
   "outputs": [],
   "source": [
    "class ChatHistory(BaseModel):\n",
    "    chat_history: List[Tuple[str, str]] = Field(..., extra={\"widget\": {\"type\": \"chat\"}})\n",
    "    question: str"
   ],
   "metadata": {
    "collapsed": false,
    "ExecuteTime": {
     "end_time": "2023-11-26T21:08:19.670103100Z",
     "start_time": "2023-11-26T21:08:19.649584700Z"
    }
   },
   "id": "c9c3eecad4679998"
  },
  {
   "cell_type": "code",
   "execution_count": 30,
   "outputs": [],
   "source": [
    "_search_query = RunnableBranch(\n",
    "    (\n",
    "        RunnableLambda(lambda x: bool(x.get(\"chat_history\"))).with_config(\n",
    "            run_name=\"HasChatHistoryCheck\"\n",
    "        ),\n",
    "        RunnablePassthrough.assign(\n",
    "            chat_history=lambda x: _format_chat_history(x[\"chat_history\"])\n",
    "        )\n",
    "        | CONDENSE_QUESTION_PROMPT\n",
    "        | ChatOpenAI(temperature=0)\n",
    "        | StrOutputParser(),\n",
    "    ),\n",
    "    RunnableLambda(itemgetter(\"question\")),\n",
    ")\n",
    "\n",
    "_inputs = RunnableMap(\n",
    "    {\n",
    "        \"question\": lambda x: x[\"question\"],\n",
    "        \"chat_history\": lambda x: _format_chat_history(x[\"chat_history\"]),\n",
    "        \"context\": _search_query | retriever | _combine_documents,\n",
    "    }\n",
    ").with_types(input_type=ChatHistory)\n",
    "\n",
    "chain = _inputs | ANSWER_PROMPT | ChatOpenAI() | StrOutputParser()"
   ],
   "metadata": {
    "collapsed": false,
    "ExecuteTime": {
     "end_time": "2023-11-26T21:08:20.033452200Z",
     "start_time": "2023-11-26T21:08:20.021426900Z"
    }
   },
   "id": "8f8860d123a13873"
  },
  {
   "cell_type": "code",
   "execution_count": 37,
   "outputs": [
    {
     "data": {
      "text/plain": "'Según el contexto proporcionado, hay dos propuestas de nueva constitución:\\n1. \"Propuesta de nueva constitución 2022\".\\n2. \"Propuesta de nueva constitución 2023\".'"
     },
     "execution_count": 37,
     "metadata": {},
     "output_type": "execute_result"
    }
   ],
   "source": [
    "question = \"Cuantas propuestas de nueva constitución tienes ?\"\n",
    "answer = chain.invoke(\n",
    "    {\n",
    "        \"question\": question,\n",
    "        \"chat_history\": [],\n",
    "    }\n",
    ")\n",
    "answer"
   ],
   "metadata": {
    "collapsed": false,
    "ExecuteTime": {
     "end_time": "2023-11-26T21:12:41.290910400Z",
     "start_time": "2023-11-26T21:12:39.584831900Z"
    }
   },
   "id": "95cb0bf9748a8c12"
  },
  {
   "cell_type": "code",
   "execution_count": 38,
   "outputs": [
    {
     "data": {
      "text/plain": "'En la Constitución actual de la República de Chile, se abordan diversos temas relacionados con la educación. A continuación, destacaré algunos de los artículos pertinentes:\\n\\n- Artículo 19, número 10: Este artículo establece que el Estado tiene el deber de proporcionar educación pública, pluralista y de calidad en todos los niveles. Además, se garantiza el financiamiento de los establecimientos de educación parvularia, básica y media.\\n\\n- Artículo 19, número 11: En este artículo, se establece el deber de la familia y la comunidad de contribuir al desarrollo y perfeccionamiento de la educación. Asimismo, se establece que corresponde al Estado asegurar la calidad de la educación en todos sus niveles, fomentar la formación cívica, estimular la investigación científica y tecnológica, la creación artística y la protección del patrimonio cultural de la Nación.\\n\\n- Artículo 19, número 24: Este artículo consagra la libertad de enseñanza, reconociendo el derecho de los padres a elegir la educación que deseen para sus hijos.\\n\\n- Artículo 37: En este artículo se establece que el Sistema de Educación Superior estará conformado por universidades, institutos profesionales, centros de formación técnica, academias creadas o reconocidas por el Estado, y escuelas de formación de las policías y las Fuerzas Armadas. Además, se prohíbe toda forma de lucro en estas instituciones.\\n\\nEstos son solo algunos ejemplos de los temas relacionados con la educación que se abordan en la Constitución actual de Chile. Es importante destacar que estos artículos pueden ser modificados o actualizados en el marco de un proceso de cambio constitucional.'"
     },
     "execution_count": 38,
     "metadata": {},
     "output_type": "execute_result"
    }
   ],
   "source": [
    "chat_history = [(question, answer)]\n",
    "question = \"En la constitución actual o vigente de chile, que aborda sobre temas de educación\"\n",
    "answer = chain.invoke(\n",
    "    {\n",
    "        \"question\": question,\n",
    "        \"chat_history\": [],\n",
    "    }\n",
    ")\n",
    "\n",
    "answer"
   ],
   "metadata": {
    "collapsed": false,
    "ExecuteTime": {
     "end_time": "2023-11-26T21:12:54.784718900Z",
     "start_time": "2023-11-26T21:12:47.258227800Z"
    }
   },
   "id": "b7c2702021045423"
  },
  {
   "cell_type": "code",
   "execution_count": 39,
   "outputs": [
    {
     "data": {
      "text/plain": "'La propuesta de nueva Constitución del 2023 aún no ha sido presentada en su totalidad, por lo que no puedo proporcionar una comparación detallada de las diferencias en temas de educación entre la Constitución actual y la propuesta del 2023.\\n\\nSin embargo, con base en la información proporcionada en el fragmento del documento de la propuesta del 2023, se puede observar que se mantienen algunos aspectos fundamentales, como el deber del Estado de proporcionar educación pública, pluralista y de calidad en todos los niveles. También se enfatiza en la importancia de asegurar la calidad de la educación, fomentar la formación cívica y promover el desarrollo profesional y respeto de los docentes.\\n\\nEs importante tener en cuenta que la propuesta completa de la nueva Constitución del 2023 deberá ser analizada en su totalidad para comprender las posibles diferencias en temas de educación con respecto a la Constitución actual.'"
     },
     "execution_count": 39,
     "metadata": {},
     "output_type": "execute_result"
    }
   ],
   "source": [
    "chat_history = [(question, answer)]\n",
    "answer = chain.invoke(\n",
    "    {\n",
    "        \"question\": \"y en comparación con la propuesta del 2023, analiza cuales son las principales diferencias en temas de educación\",\n",
    "        \"chat_history\": chat_history,\n",
    "    }\n",
    ")\n",
    "answer"
   ],
   "metadata": {
    "collapsed": false,
    "ExecuteTime": {
     "end_time": "2023-11-26T21:13:03.554206900Z",
     "start_time": "2023-11-26T21:12:58.193536Z"
    }
   },
   "id": "89115e4909e946fc"
  },
  {
   "cell_type": "code",
   "execution_count": 40,
   "outputs": [
    {
     "data": {
      "text/plain": "'Lamentablemente, no tengo acceso al contenido completo de las propuestas de nueva Constitución del 2022 y del 2023. Solo se proporcionó un fragmento del documento de la propuesta del 2022 y no se ha proporcionado ninguna información sobre la propuesta del 2023 más allá de su título.\\n\\nBasándome en la información limitada proporcionada, no puedo realizar una comparación detallada de las diferencias en temas de educación entre la propuesta del 2022 y la del 2023.\\n\\nPara una evaluación precisa de las diferencias en temas de educación entre ambas propuestas, es necesario tener acceso al contenido completo de ambas propuestas y analizarlas en su totalidad. Sin esa información, no puedo proporcionar una respuesta precisa a tu pregunta.'"
     },
     "execution_count": 40,
     "metadata": {},
     "output_type": "execute_result"
    }
   ],
   "source": [
    "chat_history = [(question, answer)]\n",
    "answer = chain.invoke(\n",
    "    {\n",
    "        \"question\": \"y en comparación con la propuesta del 2022, analiza cuales son las principales diferencias en temas de educación entre esta propuesta (2022) y la del 2023\",\n",
    "        \"chat_history\": chat_history,\n",
    "    }\n",
    ")\n",
    "answer"
   ],
   "metadata": {
    "collapsed": false,
    "ExecuteTime": {
     "end_time": "2023-11-26T21:13:16.902436700Z",
     "start_time": "2023-11-26T21:13:12.065048900Z"
    }
   },
   "id": "753e2713787dcf7b"
  },
  {
   "cell_type": "code",
   "execution_count": null,
   "outputs": [],
   "source": [],
   "metadata": {
    "collapsed": false
   },
   "id": "f6c42574d1cdf015"
  }
 ],
 "metadata": {
  "kernelspec": {
   "display_name": "Python 3",
   "language": "python",
   "name": "python3"
  },
  "language_info": {
   "codemirror_mode": {
    "name": "ipython",
    "version": 2
   },
   "file_extension": ".py",
   "mimetype": "text/x-python",
   "name": "python",
   "nbconvert_exporter": "python",
   "pygments_lexer": "ipython2",
   "version": "2.7.6"
  }
 },
 "nbformat": 4,
 "nbformat_minor": 5
}
